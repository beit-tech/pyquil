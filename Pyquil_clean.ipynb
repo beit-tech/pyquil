{
  "cells": [
    {
      "cell_type": "markdown",
      "metadata": {},
      "source": [
        "# Installation\n",
        "This section contains installation instruction and necessary imports."
      ]
    },
    {
      "cell_type": "code",
      "execution_count": null,
      "metadata": {},
      "outputs": [],
      "source": [
        "% cd ~\n",
        "! git clone https://github.com/rigetticomputing/reference-qvm.git\n",
        "% cd reference-qvm\n",
        "! pwd\n",
        "! ls\n",
        "! pip install -r requirements.txt -e .\n",
        "! pip install --upgrade pyquil"
      ]
    },
    {
      "cell_type": "code",
      "execution_count": null,
      "metadata": {},
      "outputs": [],
      "source": [
        "# Standard library imports\n",
        "import math\n",
        "from math import pi\n",
        "import cmath\n",
        "import numpy as np\n",
        "import random\n",
        "import re\n",
        "\n",
        "# PyQuil imports\n",
        "import pyquil.quil as pq\n",
        "from pyquil.quil import Program\n",
        "from pyquil.quilbase import DefGate\n",
        "from pyquil.gates import *\n",
        "\n",
        "# Jupyter imporsts\n",
        "from IPython.core.display import HTML, display\n",
        "\n",
        "# license = \"\"\"[Rigetti Forest] ##\n",
        "# key: nmRPAVunQl19TtQz9eMd11iiIsArtUDTaEnsSV6u  ##\n",
        "# user_id: 67c194ae-0ae4-4da8-8f3c-0d9f45359202\"\"\" ##\n",
        "# open('.pyquil_config', 'w').write(license) ##\n",
        "\n",
        "from referenceqvm.api import QVMConnection\n",
        "#from pyquil.api.qvm import QVMConnection ##"
      ]
    },
    {
      "cell_type": "markdown",
      "metadata": {},
      "source": [
        "# Syntax"
      ]
    },
    {
      "cell_type": "markdown",
      "metadata": {},
      "source": [
        "## P1. The simplest program\n",
        "\n",
        "We begin our journey with investigating this simple program.\n",
        "\n",
        "First, we construct program containing two instructions `I 0`, and `X 1`. We don't care for their meaning now.\n",
        "\n",
        "Then we instantiate connection (`QVMConnection()`) to our virtual quantum computer and execute program in two ways:\n",
        "\n",
        "* first by explicitly measuring qbits (`run_and_measure`)\n",
        "* second \u2013 by peeking the wavefunction (`wavefunction`).\n",
        "\n",
        "This example shows what API is offered by the PyQuil library. Most of the functions we see here last time today, because we have some helper functions prepared that wrap all these numbers into nicer graphical representation.\n",
        "\n",
        "You can also take a look on [official API documentation](https://pyquil.readthedocs.io/en/stable/quil.html)."
      ]
    },
    {
      "cell_type": "code",
      "execution_count": null,
      "metadata": {},
      "outputs": [],
      "source": [
        "p = Program()\n",
        "p.inst(I(0))\n",
        "p.inst(X(1))\n",
        "\n",
        "print('Program:', p, sep='\\n')\n",
        "\n",
        "print('Qubits', p.get_qubits())\n",
        "\n",
        "qvm = QVMConnection()\n",
        "\n",
        "print('Measurement', qvm.run_and_measure(p, [0, 1, 2]))\n",
        "\n",
        "wavefunction = qvm.wavefunction(p)[0]\n",
        "\n",
        "print('Wavefunction', wavefunction)\n",
        "print('Amplitudes:', wavefunction.amplitudes, sep='\\n')"
      ]
    },
    {
      "cell_type": "markdown",
      "metadata": {},
      "source": [
        "## Helper functions"
      ]
    },
    {
      "cell_type": "code",
      "execution_count": null,
      "metadata": {},
      "outputs": [],
      "source": [
        "# eg. 6 -> '011'  (3qbits)\n",
        "def le_to_state(i, qbits_num):  \n",
        "    fmt = '{{:0{}b}}'.format(qbits_num)\n",
        "    return fmt.format(i)[::-1]\n",
        "\n",
        "assert(le_to_state(6, 3) == '011')\n",
        "\n",
        "# eg. '110' -> 6\n",
        "def state_to_be(state):\n",
        "    return int(state, 2)\n",
        "\n",
        "assert(state_to_be('110') == 6)\n",
        "\n",
        "# eg. 6 <-> 3  (3qbits)\n",
        "def swap_endianness(i, qbits_num):\n",
        "    return state_to_be(le_to_state(i, qbits_num))\n",
        "\n",
        "assert(swap_endianness(6, 3) == 3)\n",
        "assert(swap_endianness(3, 3) == 6)\n",
        "\n",
        "# eg. 6 -> (0, 1, 1)  (3qbits)\n",
        "def le_to_measurement(i, qbits_num):\n",
        "    return tuple(map(int, le_to_state(i, qbits_num)))\n",
        "\n",
        "assert(le_to_measurement(6, 3) == (0, 1, 1))\n",
        "\n",
        "def format_program(program):    \n",
        "    return re.sub(\n",
        "        r'(DEFGATE [a-zA-Z0-9_]+:)\\n((    .*\\n)+)\\n',\n",
        "        r'\\1<div class=\"matrix\">\\2</div>\\n',\n",
        "        str(program),\n",
        "        flags=re.M | re.I)\n",
        "\n",
        "def label_be(measurement):\n",
        "    state_fmt = ''\n",
        "    for qbit_id, bit in enumerate(measurement):\n",
        "        state_fmt += '{}<sub>{}</sub>'.format(bit, qbit_id)\n",
        "    return state_fmt\n",
        "\n",
        "def format_html(amplitudes, measurements, program, label):\n",
        "    qbits_num = int(math.log2(len(amplitudes)))\n",
        "\n",
        "    num_measurements = len(measurements)\n",
        "    stats = {}\n",
        "    for measurement in measurements:\n",
        "        measurement = tuple(measurement)\n",
        "        stats[measurement] = stats.get(measurement, 0) + 1\n",
        "  \n",
        "    lines = []\n",
        "    \n",
        "    le_amplitudes = enumerate(amplitudes)\n",
        "    be_amplitudes = {swap_endianness(i_le, qbits_num): amplitude for i_le, amplitude in le_amplitudes}\n",
        "\n",
        "    for i_be, amplitude in sorted(be_amplitudes.items()):    \n",
        "        i_le = swap_endianness(i_be, qbits_num)\n",
        "        state = le_to_state(i_le, qbits_num)\n",
        "                        \n",
        "        mod = abs(amplitude)        \n",
        "        hue = cmath.phase(amplitude)/2/math.pi*360\n",
        "        \n",
        "        measurement = le_to_measurement(i_le, qbits_num)\n",
        "        measurements_count = stats.get(measurement, 0)\n",
        "        \n",
        "        lines.append('''<tr>\n",
        "            <td class=\"be\">{i_be}</td>\n",
        "            <td class=\"s\">|{state}\u27e9</td>\n",
        "            <td class=\"a\"><div class=\"wr\"><div style=\"background: linear-gradient(hsl({hue}, 60%, 50%), hsl({hue}, 90%, 30%)); width: {width}%;\"></div></div></td>\n",
        "            <td class=\"ar {zero_class}\">{areal:+.04f}</td>\n",
        "            <td class=\"ai {zero_class}\">{aimag:+.04f}\u2148</td>\n",
        "            <td class=\"m\"><div class=\"wr\"><div style=\"width: {mwidth}%;\"</div></div></td>\n",
        "            <td>{mcount}</td>\n",
        "            </tr>'''.format(\n",
        "                i_be=i_be,\n",
        "                state=label(measurement),\n",
        "                zero_class='zero' if mod==0 else '',\n",
        "                areal=amplitude.real,\n",
        "                aimag=amplitude.imag,\n",
        "                hue=hue,\n",
        "                width=mod*100,\n",
        "                mcount=measurements_count,\n",
        "                mwidth=measurements_count/num_measurements*100\n",
        "            )\n",
        "        )\n",
        "      \n",
        "    return '''<style>\n",
        "        .amps{border:1px solid #000; border-collapse:collapse; font-family: monospace}\n",
        "        .amps tr { border: 1px solid #111 }\n",
        "        .amps tr th { text-align: center }\n",
        "        .amps td { padding: 0.4em; vertical-align: middle; }\n",
        "        .amps td.a { width: 10em; }\n",
        "        .amps td .wr { border: 1px solid #555; height: 1em; width: 100%; box-sizing: border-box; background: #eee; }\n",
        "        .amps td .wr div { height:100%; }\n",
        "        .amps td.m { width: 5em; }\n",
        "        .amps td.m .wr div { background: black; }\n",
        "        .amps td.ar, .amps td.ai { font-family: Arial; font-size: 0.9em; }\n",
        "        .amps td.ar.zero, .amps td.ai.zero { opacity: 0.5; }\n",
        "        .amps td.s, .amps td.ai { border-right: 1px solid #333; }\n",
        "        .amps td sub { opacity: 0.5; color: #024; font-size:0.5em; }\n",
        "        .result { display: table-row; border-collapse: collapse;}\n",
        "        .result pre, result div.right { display: table-cell }\n",
        "        .result pre { background: linear-gradient(#fdfdb1, #dede83) !important;\n",
        "            padding: 1em !important; padding-right: 5em !important; border: 1px solid black !important;\n",
        "            border-right: 0px !important; min-width: 15em; max-width: 30em; }\n",
        "        .result pre .matrix { font-size: .75em; line-height: 1em; }\n",
        "    </style>''' + ''' \n",
        "    <div class=\"result\">\n",
        "    <pre>{program}</pre>\n",
        "    <div class=\"right\">\n",
        "    <table class=\"amps\">\n",
        "    <tr>\n",
        "    <th colspan=\"2\">State</th>\n",
        "    <th colspan=\"3\">Amp (1 run)</th>\n",
        "    <th colspan=\"2\">Msr ({runs} runs)</th>\n",
        "    </tr>'''.format(program=format_program(program),runs=num_measurements) +\\\n",
        "    '\\n'.join(lines) +\\\n",
        "    '''</table></div></div>'''\n",
        "\n",
        "def run_program(*instructions, **kwargs):  \n",
        "    trials = kwargs.get('trials', 1)  \n",
        "    quiet = kwargs.get('quiet', False)\n",
        "    label = kwargs.get('label', label_be)\n",
        "    \n",
        "    program = pq.Program(*instructions)\n",
        "\n",
        "    qvm = QVMConnection()\n",
        "    measurements = qvm.run_and_measure(program, list(program.get_qubits()), trials=trials)\n",
        "    amplitudes = qvm.wavefunction(program)[0].amplitudes\n",
        "\n",
        "    if not quiet:\n",
        "        display(HTML(format_html(amplitudes, measurements, program, label)))\n",
        "\n",
        "    return qvm.classical_memory"
      ]
    },
    {
      "cell_type": "markdown",
      "metadata": {},
      "source": [
        "## P2. Easy program\n",
        "\n",
        "Now let's use and get familiar with our helper function `run_program`. As arguments you can write subsequent instructions. And that's all we should care about. Execution and displaying is handled by `run_program` function.\n",
        "\n",
        "\n",
        "**Write any program.** You may use for instance following instructions:\n",
        "`X(0)`, `Y(1)`, `Z(2)`.\n",
        "\n",
        "Try and play around for a while \u2013 how these instructions affect the outcome? Don't be too detailed in experimentation \u2013 we are only familiarizing ourselfes with the syntax."
      ]
    },
    {
      "cell_type": "code",
      "execution_count": null,
      "metadata": {},
      "outputs": [],
      "source": [
        "run_program(\n",
        "  X(0), ##  # Write instructions here\n",
        "  Y(1), ##\n",
        "  Z(2), ##\n",
        ");"
      ]
    },
    {
      "cell_type": "markdown",
      "metadata": {},
      "source": [
        "## P3. More about syntax\n",
        "\n",
        "Now you have an idea how Quil instructions map to PyQuil functions.\n",
        "\n",
        "For practise, please write the following program and execute it:\n",
        "```\n",
        "X 0\n",
        "X 1\n",
        "X 2\n",
        "X 3\n",
        "Y 1\n",
        "Z 2\n",
        "Z 3\n",
        "```"
      ]
    },
    {
      "cell_type": "code",
      "execution_count": null,
      "metadata": {},
      "outputs": [],
      "source": [
        "run_program(\n",
        "    X(0), X(1), X(2), X(3), ## # Write instructions here\n",
        "    Y(1), Z(2), Z(3) ##\n",
        ");"
      ]
    },
    {
      "cell_type": "markdown",
      "metadata": {},
      "source": [
        "Note that `Program` (and therefore `run_program` function) accepts:\n",
        "* single instruction per argument,\n",
        "* list of instructions,\n",
        "* you can also nest `Program` in another `Program`.\n",
        "\n",
        "Write the same program P3 below, using all three described methods.\n",
        "\n",
        "Check if the produced output (program, states) is the same in both implementations."
      ]
    },
    {
      "cell_type": "code",
      "execution_count": null,
      "metadata": {},
      "outputs": [],
      "source": [
        "p = Program()\n",
        "p.inst(Z(2), Z(3)) ### Append `Z 2` and `Z 3` instructions to `p` program.\n",
        "\n",
        "run_program(\n",
        "    [X(i) for i in range(4)], ## # Apply X gates\n",
        "    Y(1),  ## # Apply Y gates\n",
        "    p # `p` program is appended at the end\n",
        ");"
      ]
    },
    {
      "cell_type": "markdown",
      "metadata": {},
      "source": [
        "# Quantum computing postulates"
      ]
    },
    {
      "cell_type": "markdown",
      "metadata": {},
      "source": [
        "These **are not** formal *postulates of quantum mechanics*. To skip math that is unnecessary at this point, I propose simplified, practical version:\n",
        "\n",
        "0. Forget any intuition you have about classical computing. Don't think of boolean values, conditions, determinism, etc.\n",
        "1. **System** of $N$ qbits has $2^N$ **base states**.\n",
        "2. Each possible assignment of binary values ($\\{0, 1\\}$) to qbits is represented by one *base state*.\n",
        "3. We can **label** *base states* in any way that is convenient, eg. $|0101\u27e9$ to indicate qbits' values in a certain order, or $|13\u27e9$, or even |\ud83d\udc2d\u27e9.\n",
        "4. Each base state has an associated **amplitude**.\n",
        "5. We can see the current **state of a system** as a vector of $2^N$ numbers.\n",
        "6. Amplitude is a [*complex* number](http://www.fluidstructureinteraction.com/numberbypaint/complex.html).\n",
        "7. We interact with the system by applying **gates**, what usually effects in changing the amplitude (changing the state).\n",
        "8. Each gate must be **reversible**.\n",
        "9. If there is more than one state with non-zero amplitude, we say that the system is in **superposition** of base states.\n",
        "10. We get information from the system by **measuring** a qbit. Measurement result is binary (either 0 or 1).\n",
        "11. Measurement is **probabilistic**. Probability is related to the amplitude.\n",
        "12. Measurement **collapses** the state.\n",
        "\n",
        "If you have more formal knowledge on quantum computing, you can see where simplifications were made. Otherwise, these 13 points should be sufficient for the purpose of this workshop."
      ]
    },
    {
      "cell_type": "markdown",
      "metadata": {},
      "source": [
        "# Warmup"
      ]
    },
    {
      "cell_type": "markdown",
      "metadata": {},
      "source": [
        "## P4. First nondeterministic\n",
        "\n",
        "So far we used four types of gates `I`, `X`, `Y`, and `Z`. They are in fact identinty gate and three *Pauli* gates, respectively.\n",
        "\n",
        "`X`, `Y`, `Z` perform an amplitude \"swap\" between pairs of states and/or change its phase.\n",
        "\n",
        "There are also other gates that are able to move part of the amplitude (rotation gates):\n",
        "```\n",
        "RX(angle, qbit)\n",
        "RY(angle, qbit)\n",
        "RZ(angle, qbit)\n",
        "```\n",
        "\n",
        "Let's examine effect of these gates on pure state $|0\u27e9$ (the initial state of the quantum system).\n",
        "\n",
        "Once you manage to get nonzero amplitude in both $|0\u27e9$ and $|1\u27e9$ states, add `trials=100` parameter to the `run_program` call and watch the count of measurements.\n",
        "\n",
        "What is the relationship between amplitude and number of measurements?"
      ]
    },
    {
      "cell_type": "code",
      "execution_count": null,
      "metadata": {},
      "outputs": [],
      "source": [
        "run_program(\n",
        "    RX(0.6, 0), ## # Write instruction here\n",
        "##\n",
        "    trials=100 ##\n",
        ");"
      ]
    },
    {
      "cell_type": "markdown",
      "metadata": {},
      "source": [
        "## P5. Hadamard gate\n",
        "\n",
        "Now let's get familiar with *Hadamard gate* `H` (\\[adama\u0281\\]). It is another gate.\n",
        "\n",
        "One of its properties is that it transforms $|0\u27e9$ state to two equal amplitudes ($\\frac{1}{\\sqrt2}|0\u27e9 + \\frac{1}{\\sqrt2}|1\u27e9$ \u2013 in fact).\n",
        "\n",
        "Write the simplest program to examine this behavior:\n",
        "```\n",
        "H 0\n",
        "```\n",
        "\n",
        "Use also `trials=` parameter what is the proportion between number of measurements for each state."
      ]
    },
    {
      "cell_type": "code",
      "execution_count": null,
      "metadata": {},
      "outputs": [],
      "source": [
        "run_program(\n",
        "    H(0), ## # Write instruction here\n",
        "##\n",
        "    trials=100 ##\n",
        ");"
      ]
    },
    {
      "cell_type": "markdown",
      "metadata": {},
      "source": [
        "Let us see now how Hadamard gate affects state $|1\u27e9$.\n",
        "\n",
        "How is it different from previous result? Is information about previous state ($|0\u27e9$ or $|1\u27e9$) lost?"
      ]
    },
    {
      "cell_type": "code",
      "execution_count": null,
      "metadata": {},
      "outputs": [],
      "source": [
        "run_program(\n",
        "    X(0), ## # Prepare |1> state\n",
        "    H(0), ## # Apply Hadamard\n",
        "##\n",
        "    trials=100 ##\n",
        ");"
      ]
    },
    {
      "cell_type": "markdown",
      "metadata": {},
      "source": [
        "Assume we want to undo this operation. One interesting property is that $HH = I$ (we can write also $H^2=I$, and that indicates there is some math behind it). This also works for the gates $X$, $Y$, and $Z$.\n",
        "\n",
        "Add some instruction(s) to the previous program to go back to the state $|1\u27e9$. Do some experiments."
      ]
    },
    {
      "cell_type": "code",
      "execution_count": null,
      "metadata": {},
      "outputs": [],
      "source": [
        "run_program(\n",
        "    X(0), ## # (Copy above program here)\n",
        "    H(0), ##\n",
        "##\n",
        "    H(0), ## # Undo Hadamard gate by adding new instruction.\n",
        "##\n",
        "    trials=100 ##\n",
        ");"
      ]
    },
    {
      "cell_type": "markdown",
      "metadata": {},
      "source": [
        "## P6. Measurement \u2013 classical registry\n",
        "\n",
        "The information we get from real quantum computer has form of classical bits. We cannot peek the state directly.\n",
        "\n",
        "Therefore only by measuring qbits we can fetch any results of computation. To do it in a proper way, Quil introduces a classic registry \u2013 an array of bits which can be read and written during the execution.\n",
        "\n",
        "Instruction for measuring is defined as `MEASURE(qbit_id, creg_pos)` and performs a measurement operation for a single qbit (numbered `qbit_id`), and stores the result in the classical registry at position `creg_pos`.\n",
        "\n",
        "Examine the following program. Why the amplitude is now concentrated only in one state? Which one?\n",
        "\n",
        "Does amplitude and result of measurement differ? Why is that?"
      ]
    },
    {
      "cell_type": "code",
      "execution_count": null,
      "metadata": {},
      "outputs": [],
      "source": [
        "creg = run_program(\n",
        "  H(0),\n",
        "  MEASURE(0, 0)\n",
        ")\n",
        "\n",
        "print('Random result is:', creg[0])"
      ]
    },
    {
      "cell_type": "markdown",
      "metadata": {},
      "source": [
        "As an excercise, write a quantum-based program, that can generates random number $x \\in \\{0, 1, 2, 3, 4, 5, 6, 7\\}$ with equal probability."
      ]
    },
    {
      "cell_type": "code",
      "execution_count": null,
      "metadata": {},
      "outputs": [],
      "source": [
        "creg = run_program(\n",
        "    H(0), H(1), H(2), ## # Write your program here\n",
        "    MEASURE(0, 0), ##\n",
        "    MEASURE(1, 1), ##\n",
        "    MEASURE(2, 2) ##\n",
        ")\n",
        "\n",
        "number = creg[0]*4 + creg[1]*2 + creg[2] ##number = ???\n",
        "print('Random number =', number)"
      ]
    },
    {
      "cell_type": "markdown",
      "metadata": {},
      "source": [
        "## P7. \u201eHello world\u201d\n",
        "\n",
        "Now we will prepare very interesting quantum state, called *entanglement*.\n",
        "\n",
        "A new gate is introduced, `CNOT(x, y)` \u2013 which operates on two qbits. You can imagine it works like:\n",
        "\n",
        "```\n",
        "if x:\n",
        "  y := not y\n",
        "```\n",
        "\n",
        "This is why it is called *controlled not*. And by the way this is not the most precise definition.\n",
        "\n",
        "Examine how it evolves state $|00\u27e9$ and $|10\u27e9$"
      ]
    },
    {
      "cell_type": "code",
      "execution_count": null,
      "metadata": {},
      "outputs": [],
      "source": [
        "run_program(\n",
        "    I(0), I(1), # No-operation, now we have state |00>\n",
        "    CNOT(0, 1), ## # Add CNOT instruction\n",
        "#    MEASURE(0, 0),##    \n",
        "#    trials=100 ##\n",
        ");\n",
        "\n",
        "run_program(\n",
        "    X(0), I(1), # X gate, now we have state |10>\n",
        "    CNOT(0, 1), ## # Add CNOT instruction\n",
        "#    MEASURE(0, 0),##\n",
        "#    trials=100 ##\n",
        ");"
      ]
    },
    {
      "cell_type": "markdown",
      "metadata": {},
      "source": [
        "How does `CNOT` work if a system is in superposition? You can make calculation for each basic state and then merge (add) results.\n",
        "\n",
        "Can you prepare system to be in state $|00\u27e9$ + $|11\u27e9$ (with equal amplitudes of $\\frac{1}{\\sqrt2}$)?\n",
        "\n",
        "Once you've done it, think of its physical interpretation. This result is fascinating!"
      ]
    },
    {
      "cell_type": "code",
      "execution_count": null,
      "metadata": {},
      "outputs": [],
      "source": [
        "run_program(\n",
        "    H(0), ## # Write program here\n",
        "    CNOT(0, 1), ##\n",
        "#    MEASURE(0, 0),##\n",
        "#    trials=100 ##\n",
        ");"
      ]
    },
    {
      "cell_type": "markdown",
      "metadata": {},
      "source": [
        "# Simple\n",
        "Now we know how to use the PyQuil library and our helper functions. Let's start getting some real quantum fun!"
      ]
    },
    {
      "cell_type": "markdown",
      "metadata": {},
      "source": [
        "## P8. Hybrid programming\n",
        "\n",
        "Prepare a single qubit in a state that all the amplitude is concentrated in state $|1\u27e9$. In the beginning we assume that you have qubit in random state (here emulated by 3 random rotations).\n",
        "\n",
        "`Program` object has method `if_then(classical_reg, if_program, else_program=None)`. You'd like to use it."
      ]
    },
    {
      "cell_type": "code",
      "execution_count": null,
      "metadata": {},
      "outputs": [],
      "source": [
        "prepare_random_qubit = Program().inst(\n",
        "    RX(random.random()*pi*4, 0),\n",
        "    RY(random.random()*pi*4, 0),\n",
        "    RZ(random.random()*pi*4, 0)\n",
        ")\n",
        "\n",
        "p = Program()\n",
        "p.inst(prepare_random_qubit)\n",
        "\n",
        "p.measure(0, 0)  ### Write something here?\n",
        "p.if_then(0, [], X(0)) ##p.if_then(???, ???, ???)\n",
        "# Write something here?\n",
        "\n",
        "run_program(p);"
      ]
    },
    {
      "cell_type": "markdown",
      "metadata": {},
      "source": [
        "Can you prepare this qubit in a state where amplitude is equal exactly to $+1$ (i.e. no imaginary part)?"
      ]
    },
    {
      "cell_type": "code",
      "execution_count": null,
      "metadata": {},
      "outputs": [],
      "source": [
        "prepare_random_qubit = Program().inst(\n",
        "    RX(random.random()*pi*4, 0),\n",
        "    RY(random.random()*pi*4, 0),\n",
        "    RZ(random.random()*pi*4, 0)\n",
        ")\n",
        "\n",
        "p = Program()\n",
        "p.inst(prepare_random_qubit)\n",
        "\n",
        "p.measure(0, 0)  ### Write something here?\n",
        "p.if_then(0, [], X(0)) ##p.if_then(???, ???, ???)\n",
        "# Write something here?\n",
        "\n",
        "run_program(p);"
      ]
    },
    {
      "cell_type": "markdown",
      "metadata": {},
      "source": [
        "## P9. Custom gate"
      ]
    },
    {
      "cell_type": "markdown",
      "metadata": {},
      "source": [
        "Before continuing we need to get more formal knowledge on how gates work.\n",
        "\n",
        "They are *linear operators* and can be represented as complex-valued square unitary matrices of size $M \\times M$ where $M = 2^N$, where $N$ is the number of qbits it affects."
      ]
    },
    {
      "cell_type": "markdown",
      "metadata": {},
      "source": [
        "Then, analyze this program."
      ]
    },
    {
      "cell_type": "code",
      "execution_count": null,
      "metadata": {},
      "outputs": [],
      "source": [
        "run_program(\n",
        "  H(0),\n",
        "  I(1)\n",
        ");"
      ]
    },
    {
      "cell_type": "markdown",
      "metadata": {},
      "source": [
        "State evolution obeys the following rule:\n",
        "\n",
        "$|\\psi'\u27e9 = M|\\psi\u27e9$\n",
        "\n",
        "where $|\\psi\u27e9$ is the previous state (vector of amplitudes), $|\\psi'\u27e9$ is the next state, and $M$ is an unitary matrix.\n",
        "\n",
        "\n",
        "\n",
        "Our current state is $\\frac{1}{\\sqrt2}|00\u27e9 + \\frac{1}{\\sqrt2}|10\u27e9$, what can be represented as a vector:\n",
        "\n",
        "$|\\psi\u27e9 = \\begin{bmatrix}\\frac{1}{\\sqrt2} \\\\ 0 \\\\ \\frac{1}{\\sqrt2} \\\\ 0\\end{bmatrix}$\n",
        "\n",
        "We want to move amplitude from state $|10\u27e9$ to $|01\u27e9$, in order to reach state $\\frac{1}{\\sqrt2}|00\u27e9 + \\frac{1}{\\sqrt2}|01\u27e9$.\n",
        "\n",
        "We have the ability to apply custom matrix $M$. Edit gate definition matrix so it realizes the amplitude swap between $|10\u27e9$ and $|01\u27e9$. Current implementation is an identity matrix (does nothing)."
      ]
    },
    {
      "cell_type": "code",
      "execution_count": null,
      "metadata": {},
      "outputs": [],
      "source": [
        "DEF_MY = DefGate('MY', np.array([\n",
        "    [1, 0, 0, 0],\n",
        "    [0, 0, 1, 0], ## [0, 1, 0, 0],\n",
        "    [0, 1, 0, 0], ## [0, 0, 1, 0],\n",
        "    [0, 0, 0, 1]\n",
        "], dtype=complex))\n",
        "\n",
        "run_program(   \n",
        "    DEF_MY, # Gate definition\n",
        "    \n",
        "    H(0),\n",
        "    I(1),\n",
        "    ('MY', 0, 1), # Applying gate on qbits 0 and 1.\n",
        "#    trials=100 ##\n",
        ");"
      ]
    },
    {
      "cell_type": "markdown",
      "metadata": {},
      "source": [
        "In this case, we were able to acheive the same result using two CNOT-s."
      ]
    },
    {
      "cell_type": "code",
      "execution_count": null,
      "metadata": {},
      "outputs": [],
      "source": [
        "run_program(\n",
        "    H(0),\n",
        "    I(1),\n",
        "    \n",
        "    CNOT(0, 1),\n",
        "    CNOT(1, 0)\n",
        ");"
      ]
    },
    {
      "cell_type": "markdown",
      "metadata": {},
      "source": [
        "In general, we change amplitude between $|10\u27e9$ and $|01\u27e9$, and leave the state unchanged for $|00\u27e9$ and $|11\u27e9$.\n",
        "\n",
        "You can realize that it swaps these two qbits. This is a `SWAP` instruction. Guess its arguments and check if it results in the same state."
      ]
    },
    {
      "cell_type": "code",
      "execution_count": null,
      "metadata": {},
      "outputs": [],
      "source": [
        "run_program(\n",
        "    H(0),\n",
        "    I(1),\n",
        "\n",
        "    SWAP(0, 1) ## # Swap instruction?\n",
        ");"
      ]
    },
    {
      "cell_type": "markdown",
      "metadata": {},
      "source": [
        "## P10. Our custm functions cont. \u2013 Is prime?\n",
        "\n",
        "Based on our previous excercies we create simple helper function to write amplitude swaps (between two given states) into a matrix in a convenient way."
      ]
    },
    {
      "cell_type": "code",
      "execution_count": null,
      "metadata": {},
      "outputs": [],
      "source": [
        "def swap_states_be(matrix, i, j):\n",
        "    tmp = matrix[i].copy()\n",
        "    matrix[i] = matrix[j]\n",
        "    matrix[j] = tmp"
      ]
    },
    {
      "cell_type": "markdown",
      "metadata": {},
      "source": [
        "Common pattern for defining quantum functions/gates is transformation of pair $(X, Y) \\rightarrow (X, Y \\oplus f(X))$. This way, the operation is easily revertible, what is a requirement for any quantum gate.\n",
        "\n",
        "Let us define a gate that implements a function \"returning\" 1 if given number (X) is prime and 0 if it is not.\n",
        "\n",
        "It means that it must contain swap between $|X, Y\u27e9$ and $|X, \\neg Y\u27e9$ if and only if $X$ is prime. Let us use values of $X \\in \\{0, 1, 2, 3\\}$, and $Y$ for representing *false* and *true*.\n",
        "\n",
        "Note the unusual state notation. We must create bijection between previously used binary notation for states and our current needs. The natural choice is to map $X$ to binary (i.e. 0 $\\rightarrow$ 00, 1 $\\rightarrow$ 01, 2 $\\rightarrow$ 10, 3 $\\rightarrow$ 11) and encode it on two qubits (0. and 1.). And Y can be naturally encoded on the remaining one (2. qbit). This is one of many possible choices, but the most convenient one.\n",
        "\n",
        "For instance then we can interpret:\n",
        "* $|101\u27e9$ as $|2, $*true*$\u27e9$\n",
        "* $|110\u27e9$ as $|3, $*false*$\u27e9$\n",
        "\n",
        "The following table might help you understand what is the desired effect:\n",
        "\n",
        "| Before  | X | Y     |Prime?| After   |        \n",
        "| --------|:-:|:-----:|:----:| ------- |\n",
        "| $|000\u27e9$ | 0 | false |      | $|000\u27e9$ | \n",
        "| $|001\u27e9$ | 0 | true  |      | $|001\u27e9$ |\n",
        "| $|010\u27e9$ | 1 | false |      | $|010\u27e9$ | \n",
        "| $|011\u27e9$ | 1 | true  |      | $|011\u27e9$ |\n",
        "| $|100\u27e9$ | 2 | false | yes! | $|101\u27e9$ | \n",
        "| $|101\u27e9$ | 2 | true  | yes! | $|100\u27e9$ |\n",
        "\n",
        "\n",
        "Your task is to write appropriate matrix for applying our \u201eISPRIME\u201d operation.\n"
      ]
    },
    {
      "cell_type": "code",
      "execution_count": null,
      "metadata": {},
      "outputs": [],
      "source": [
        "is_prime_mat = np.eye(2**3, dtype=np.complex) # Creates identity matrix\n",
        "\n",
        "swap_states_be(is_prime_mat, 2<<1, (2<<1) + 1) ##swap_states_be(is_prime_mat, ???, ???)\n",
        "swap_states_be(is_prime_mat, 3<<1, (3<<1) + 1) ##swap_states_be(is_prime_mat, ???, ???)\n",
        "\n",
        "DEF_ISPRIME = DefGate('ISPRIME', is_prime_mat)\n",
        "ISPRIME = DEF_ISPRIME.get_constructor()\n",
        "\n",
        "def custom_label(measurement):\n",
        "    return str(int(''.join(map(str,measurement[:-1])), 2)) + ['-', '+'][measurement[-1]] + ' @ ' + label_be(measurement)\n",
        "\n",
        "for test in [0, 1, 2, 3]:\n",
        "    \n",
        "    display(HTML('<h2>Is {} prime?</h2>'.format(test)))\n",
        "    \n",
        "    prepare_number = Program()\n",
        "    if test & 1:\n",
        "        prepare_number.inst(X(1))\n",
        "    if test & 2:\n",
        "        prepare_number.inst(X(0))\n",
        "\n",
        "    creg = run_program(\n",
        "        DEF_ISPRIME,\n",
        "        I(0), I(1),\n",
        "        I(2),   \n",
        "\n",
        "        prepare_number,\n",
        "\n",
        "        ISPRIME(0, 1, 2),\n",
        "        MEASURE(2, 0),\n",
        "        \n",
        "        label=custom_label\n",
        "    )\n",
        "\n",
        "    print('It seems that {} is {}'.format(test, 'prime' if creg[0] else 'not prime'))"
      ]
    },
    {
      "cell_type": "markdown",
      "metadata": {},
      "source": [
        "Another helper function that wraps creation of this kind of gates.\n",
        "\n",
        "`defgate_set(name, qbits_num, content)` accepts list of integers from range $[0; 2^{\\texttt{qbits_num}})$ for which we want to perform swap."
      ]
    },
    {
      "cell_type": "code",
      "execution_count": null,
      "metadata": {},
      "outputs": [],
      "source": [
        "def defgate_set(name, qbits_num, content):\n",
        "    mat = np.eye(2**(qbits_num + 1), dtype=np.complex)\n",
        "    \n",
        "    for number in set(content):\n",
        "        if type(number) is not int or number < 0 or number >= 2**qbits_num:\n",
        "            raise ValueError('Cannot represent {} in {}-qbit gate'.format(number, qbits_num))\n",
        "        swap_states_be(mat, number<<1, (number<<1) + 1)\n",
        "        \n",
        "    defgate_instr = DefGate(name, mat)\n",
        "    return defgate_instr, defgate_instr.get_constructor()"
      ]
    },
    {
      "cell_type": "markdown",
      "metadata": {},
      "source": [
        "Define gates:\n",
        "* `ISPRIME2` (this one we defined above, on 2 qbits);\n",
        "* `ISPRIME3`, `ISINTEGER`, `ISPOSITIVE`, `ISPERFECT`, `ISNEGATIVE` (on 3 qbits).\n",
        "\n",
        "Use `defgate_set` function. Test each created function.\n",
        "\n",
        "We'll need them later."
      ]
    },
    {
      "cell_type": "code",
      "execution_count": null,
      "metadata": {},
      "outputs": [],
      "source": [
        "DEF_ISPRIME2, ISPRIME2 = defgate_set('ISPRIME2', 2, [2, 3])\n",
        "DEF_ISPRIME3, ISPRIME3 = defgate_set('ISPRIME3', 3, [2, 3, 5, 7]) ##DEF_ISPRIME3, ISPRIME3 = defgate_set('ISPRIME3', 3, [???])\n",
        "DEF_ISINTEGER, ISINTEGER = defgate_set('ISINTEGER', 3, [0, 1, 2, 3, 4, 5, 6, 7]) ##DEF_ISINTEGER, ISINTEGER = ???\n",
        "DEF_ISPOSITIVE, ISPOSITIVE = defgate_set('ISPOSITIVE', 3, [1, 2, 3, 4, 5, 6, 7]) ##DEF_ISPOSITIVE, ISPOSITIVE = ???\n",
        "DEF_ISPERFECT, ISPERFECT = defgate_set('ISPERFECT', 3, [6]) ##DEF_ISPERFECT, ISPERFECT = ???\n",
        "DEF_ISNEGATIVE, ISNEGATIVE = defgate_set('ISNEGATIVE', 3, []) ##DEF_ISNEGATIVE, ISNEGATIVE = ???\n",
        "DEF_ISODD, ISODD = defgate_set('ISODD', 3, [1,3,5,7]) ##DEF_ISODD, ISODD = ???\n",
        "\n",
        "for test in [0, 1, 2, 3, 4, 5, 6, 7]:\n",
        "        \n",
        "    prepare_number = Program()\n",
        "    if test & 1:\n",
        "        prepare_number.inst(X(2))\n",
        "    if test & 2:\n",
        "        prepare_number.inst(X(1))\n",
        "    if test & 4:\n",
        "        prepare_number.inst(X(0))\n",
        "        \n",
        "    creg = run_program(\n",
        "        DEF_ISPRIME3, # Gate definition\n",
        "        I(0),\n",
        "        prepare_number,\n",
        "\n",
        "        ISPRIME3(0, 1, 2, 3), # Gate usage\n",
        "        MEASURE(3, 0),\n",
        "        \n",
        "        quiet=True\n",
        "    )\n",
        "    print('For number {}, the answer is {}'.format(test, creg[0]))"
      ]
    },
    {
      "cell_type": "markdown",
      "metadata": {},
      "source": [
        "**Important notice**\n",
        "\n",
        "At this point it might seem to you that defining functions in quantum environment comes down to defining one big permutation matrix. We do it here this way to simplify this workshop.\n",
        "\n",
        "In real cases classical boolean function can be implemented as a sequence of simple quantum gates (see [this work](http://citeseerx.ist.psu.edu/viewdoc/download?doi=10.1.1.113.8040&rep=rep1&type=pdf)). But in the end, their product is equal to the permutation matrix we create here."
      ]
    },
    {
      "cell_type": "markdown",
      "metadata": {},
      "source": [
        "## P11. All at once\n",
        "\n",
        "Now do the same, but check all numbers at once (prepare state \u2013 don't do measurement)."
      ]
    },
    {
      "cell_type": "code",
      "execution_count": null,
      "metadata": {},
      "outputs": [],
      "source": [
        "run_program(\n",
        "    DEF_ISPRIME3,\n",
        "    I(0), ## # Write program here\n",
        "##\n",
        "    H(0), ##\n",
        "    H(1), ##\n",
        "    H(2), ##\n",
        "##\n",
        "    ISPRIME3(0, 1, 2, 3) ##\n",
        ");"
      ]
    },
    {
      "cell_type": "markdown",
      "metadata": {},
      "source": [
        "Now the task is to select prime numbers only.\n",
        "\n",
        "Measuring the state can be preceived as a tool for zeroing the amplitude in places not matching our measurement.  We can't control the measurement result, however. It is driven by probability.\n",
        "\n",
        "The expected state is $C(|2, $*true*$\u27e9 + |3, $*true*$\u27e9 + |5, $*true*$\u27e9 + |7, $*true*$\u27e9)$ for some constant $C$."
      ]
    },
    {
      "cell_type": "code",
      "execution_count": null,
      "metadata": {},
      "outputs": [],
      "source": [
        "while True:    \n",
        "    creg = run_program(\n",
        "        DEF_ISPRIME3,\n",
        "        I(0), ##  # Write program here\n",
        "##\n",
        "        H(0), ##\n",
        "        H(1), ##\n",
        "        H(2), ##\n",
        "##     \n",
        "        ISPRIME3(0, 1, 2, 3), ##\n",
        "##\n",
        "        MEASURE(3, 0), ##  MEASURE(???, ???)\n",
        "    )\n",
        "    \n",
        "    if creg[0] == False:\n",
        "        print('This run failed. Running again')\n",
        "    else:\n",
        "        break"
      ]
    },
    {
      "cell_type": "markdown",
      "metadata": {},
      "source": [
        "How could we implement the above program using only Quil instructions? Hint: `while_do(classical_reg, q_program)`."
      ]
    },
    {
      "cell_type": "markdown",
      "metadata": {},
      "source": [
        "# Quantum magic begins"
      ]
    },
    {
      "cell_type": "markdown",
      "metadata": {},
      "source": [
        "## P12. Quantum magic begins\n",
        "\n",
        "Let's begin with the following program:\n",
        "```\n",
        "X 1\n",
        "H 1\n",
        "H 0\n",
        "\n",
        "CNOT 0 1\n",
        "\n",
        "H 0\n",
        "```\n",
        "\n",
        "What is the state of 0-th qbit?"
      ]
    },
    {
      "cell_type": "code",
      "execution_count": null,
      "metadata": {},
      "outputs": [],
      "source": [
        "run_program(\n",
        "  X(1), ## # Write program here\n",
        "  H(1), ##\n",
        "##\n",
        "  H(0), ##   \n",
        "  CNOT(0, 1), ##\n",
        "## \n",
        "  H(0), ##\n",
        ");"
      ]
    },
    {
      "cell_type": "markdown",
      "metadata": {},
      "source": [
        "Then run another program, which does not contain `CNOT` instruction.\n",
        "What is the state now?\n",
        "\n",
        "Explain?"
      ]
    },
    {
      "cell_type": "code",
      "execution_count": null,
      "metadata": {},
      "outputs": [],
      "source": [
        "run_program(\n",
        "  X(1), ## # Write program here\n",
        "  H(1), ##\n",
        "##\n",
        "  H(0), ##\n",
        "##\n",
        "  H(0) ##\n",
        ");"
      ]
    },
    {
      "cell_type": "markdown",
      "metadata": {},
      "source": [
        "## P13. Deutsch algorithm\n",
        "We discovered our first algorithm that tests functions (called *oracles*).\n",
        "\n",
        "Requirements for \"oracle\" gate:\n",
        "* $(X, Y) \\rightarrow (X, Y \\oplus f(X))$,\n",
        "* $f(X)$ either balanced or constant in its domain (here: $\\{0, 1\\}$).\n",
        "\n",
        "Code:\n",
        "```\n",
        "X 1\n",
        "H 0\n",
        "H 1\n",
        "ORACLE 0 1\n",
        "H 0\n",
        "MEASURE 0 [0]\n",
        "```\n",
        "\n",
        "Measured value tells if the function is constant or balanced."
      ]
    },
    {
      "cell_type": "code",
      "execution_count": null,
      "metadata": {},
      "outputs": [],
      "source": [
        "x_reg = 0\n",
        "y_reg = 1\n",
        "\n",
        "oracles = {\n",
        "    'balanced1': [\n",
        "        CNOT(x_reg, y_reg) # An example of balanced function\n",
        "    ],\n",
        "    'balanced2': [\n",
        "        CNOT(x_reg, y_reg), ##  # Write another balanced function\n",
        "        X(y_reg), ##\n",
        "    ],\n",
        "    'constant': [\n",
        "        X(y_reg) ##  # Write constant function\n",
        "    ],\n",
        "}\n",
        "\n",
        "for oracle_name, oracle_code in oracles.items():\n",
        "    display(HTML('<h2>{}</h2>'.format(oracle_name)))\n",
        "\n",
        "    creg = run_program(\n",
        "        X(1),\n",
        "        H(0),\n",
        "        H(1),\n",
        "\n",
        "        oracle_code,\n",
        "\n",
        "        H(0),\n",
        "        MEASURE(0, 0)\n",
        "    )\n",
        "\n",
        "    if creg[0] == 0:\n",
        "        print('This function is constant')\n",
        "    else:\n",
        "        print('This function is balanced')"
      ]
    },
    {
      "cell_type": "markdown",
      "metadata": {},
      "source": [
        "Note that we called \"Oracle\" function only once, and that determined the result (whether balanced or constant).\n",
        "\n",
        "How many calls would you need to solve this problem on classical computer?"
      ]
    },
    {
      "cell_type": "markdown",
      "metadata": {},
      "source": [
        "## P14. Deutsch-Jozsa algorithm \u2013 first quantum speedup\n",
        "\n",
        "Now we want to write generic version of Deutsch algorithm..."
      ]
    },
    {
      "cell_type": "code",
      "execution_count": null,
      "metadata": {},
      "outputs": [],
      "source": [
        "function_qbits_num = 3 # Number of input qbits (x registry)\n",
        "\n",
        "x_reg = tuple(range(0, function_qbits_num)) # 0, 1, 2\n",
        "\n",
        "y_reg = function_qbits_num # 3 \n",
        "\n",
        "oracles = {\n",
        "    'balanced1': [\n",
        "        CNOT(x_reg[0], y_reg), # An example of balanced function\n",
        "        CNOT(x_reg[1], y_reg)\n",
        "    ],\n",
        "    'balanced2': [\n",
        "        CNOT(x_reg[0], y_reg), ##  # Write another example\n",
        "        X(y_reg), ##\n",
        "    ],\n",
        "\n",
        "    'constant1': [\n",
        "        X(y_reg) ##  # Write example function\n",
        "    ],\n",
        "\n",
        "    'constant2': [\n",
        "        I(y_reg) ##  # Write another example\n",
        "    ], \n",
        "\n",
        "    'isprime3': [ # We can also test our gates we defined earlier.\n",
        "        DEF_ISPRIME3, \n",
        "        ISPRIME3(*x_reg, y_reg)\n",
        "    ], \n",
        "    \n",
        "    'isinteger': [ ## # Test another gates (like ISINTEGER, ISNEGATIVE)\n",
        "        DEF_ISINTEGER, ##\n",
        "        ISINTEGER(*x_reg, y_reg) ##\n",
        "    ], ##\n",
        "    'isnegative': [ ##\n",
        "        DEF_ISNEGATIVE, ##\n",
        "        ISNEGATIVE(*x_reg, y_reg) ##\n",
        "    ], ##\n",
        "    \n",
        "    'isperfect': [ ## # What happens when we put neither balanced nor constant (like ISPERFECT) gate\n",
        "        DEF_ISPERFECT, ##\n",
        "        ISPERFECT(*x_reg, y_reg) ##\n",
        "    ], ##\n",
        "}\n",
        "\n",
        "def custom_label(state):\n",
        "    return state\n",
        "\n",
        "for oracle_name, oracle_code in oracles.items():\n",
        "  \n",
        "    display(HTML('<h2>{}</h2>'.format(oracle_name)))\n",
        "\n",
        "    creg = run_program(\n",
        "        X(y_reg), ##  # Write complete DJ algorithm\n",
        "##\n",
        "        [H(i) for i in range(function_qbits_num+1)],##\n",
        "##\n",
        "        oracle_code,##\n",
        "##\n",
        "##\n",
        "        [H(i) for i in range(0, function_qbits_num)],##\n",
        "##\n",
        "        [MEASURE(i, i) for i in range(0, function_qbits_num)],##\n",
        "      ##  \n",
        "       ## \n",
        "        trials=10,##\n",
        "        label=custom_label\n",
        "    )\n",
        "  \n",
        "    if (creg[0:function_qbits_num] == 0).all(): ## if ???:\n",
        "        print('This function is constant')\n",
        "    else:\n",
        "        print('This function is balanced')"
      ]
    },
    {
      "cell_type": "markdown",
      "metadata": {},
      "source": [
        "# What next?\n",
        "\n",
        "Please, fill the [feedback form](https://goo.gl/forms/GZJD4fb8y5UlTGAT2).\n",
        "\n",
        "## Want more?\n",
        "* You can [read official tutorial on PyQuil](https://pyquil.readthedocs.io/en/stable/index.html)\n",
        "* You can apply for acces to quantum simulator/computer in the cloud [on Rigetti Forst website](https://www.rigetti.com/forest)\n",
        "* You can take a look at [the Grove library](https://github.com/rigetticomputing/grove/tree/master/grove) \u2013 containing a number of quantum algorithms implemented in PyQuil\n",
        "* You can try another [introduction to PyQuil](http://dkopczyk.quantee.co.uk/high-level-quantum-computing/) \n"
      ]
    }
  ],
  "metadata": {
    "colab": {
      "collapsed_sections": [],
      "default_view": {},
      "name": "Pyquil.ipynb",
      "provenance": [],
      "toc_visible": true,
      "version": "0.3.2",
      "views": {}
    },
    "kernelspec": {
      "display_name": "Python 3",
      "language": "python",
      "name": "python3"
    },
    "language_info": {
      "codemirror_mode": {
        "name": "ipython",
        "version": 3
      },
      "file_extension": ".py",
      "mimetype": "text/x-python",
      "name": "python",
      "nbconvert_exporter": "python",
      "pygments_lexer": "ipython3",
      "version": "3.6.5"
    }
  },
  "nbformat": 4,
  "nbformat_minor": 1
}